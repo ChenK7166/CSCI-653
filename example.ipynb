{
 "cells": [
  {
   "cell_type": "code",
   "execution_count": 1,
   "metadata": {
    "collapsed": true
   },
   "outputs": [
    {
     "name": "stderr",
     "output_type": "stream",
     "text": [
      "D:\\INCAS-TA1-Code\\CSCI653\\confusion_multi_change-master\\metachange\\model_tf.py:180: SyntaxWarning: 'str' object is not callable; perhaps you missed a comma?\n",
      "  if(name not in self.data): raise NameError('Illegal dataset name %s'(name))\n",
      "D:\\INCAS-TA1-Code\\CSCI653\\confusion_multi_change-master\\metachange\\model_tf.py:342: SyntaxWarning: 'str' object is not callable; perhaps you missed a comma?\n",
      "  if(name not in self.data): raise NameError('Illegal dataset name %s'(name))\n"
     ]
    }
   ],
   "source": [
    "import numpy as np\n",
    "import pandas as pd\n",
    "import metachange\n",
    "\n",
    "from sklearn.ensemble import RandomForestClassifier"
   ]
  },
  {
   "cell_type": "markdown",
   "source": [
    "Single change point detection"
   ],
   "metadata": {
    "collapsed": false
   }
  },
  {
   "cell_type": "code",
   "execution_count": 2,
   "outputs": [],
   "source": [
    "X = np.array([[0,1]]*1000 + [[1,0]]*1000)\n",
    "t = np.arange(2000)*1./2000"
   ],
   "metadata": {
    "collapsed": false,
    "pycharm": {
     "name": "#%%\n"
    }
   }
  },
  {
   "cell_type": "code",
   "execution_count": 3,
   "outputs": [
    {
     "name": "stdout",
     "output_type": "stream",
     "text": [
      "trial   0\n",
      "t0 = 0.5113, alpha = 1.0000\n",
      "trial   1\n",
      "t0 = 0.4990, alpha = 1.0000\n",
      "trial   2\n",
      "t0 = 0.4927, alpha = 1.0000\n",
      "trial   3\n",
      "t0 = 0.4982, alpha = 1.0000\n",
      "trial   4\n",
      "t0 = 0.5036, alpha = 0.9809\n",
      "trial   5\n",
      "t0 = 0.5023, alpha = 0.9918\n",
      "t0 = 0.5012 +- 0.0057\n",
      "alpha = 0.9954 +- 0.0072\n"
     ]
    }
   ],
   "source": [
    "clf_rf = RandomForestClassifier(max_depth=32, criterion=\"entropy\", random_state=0)\n",
    "res_rf = metachange.meta_change_detect_np(X, t, clf_rf)"
   ],
   "metadata": {
    "collapsed": false,
    "pycharm": {
     "name": "#%%\n"
    }
   }
  },
  {
   "cell_type": "code",
   "execution_count": 4,
   "outputs": [
    {
     "data": {
      "text/plain": "<Figure size 432x288 with 1 Axes>",
      "image/png": "[encoded data removed]"
     },
     "metadata": {
      "needs_background": "light"
     },
     "output_type": "display_data"
    }
   ],
   "source": [
    "metachange.plot_curves(res_rf)"
   ],
   "metadata": {
    "collapsed": false,
    "pycharm": {
     "name": "#%%\n"
    }
   }
  },
  {
   "cell_type": "markdown",
   "source": [
    "Multiple change point detection"
   ],
   "metadata": {
    "collapsed": false
   }
  },
  {
   "cell_type": "code",
   "execution_count": 5,
   "outputs": [],
   "source": [
    "X = np.array([[0,1]]*500 + [[1,0]]*500 + [[2,0]]*500 + [[2,1]]*500)\n",
    "t = np.arange(2000)*1./2000"
   ],
   "metadata": {
    "collapsed": false,
    "pycharm": {
     "name": "#%%\n"
    }
   }
  },
  {
   "cell_type": "code",
   "execution_count": 6,
   "outputs": [
    {
     "name": "stdout",
     "output_type": "stream",
     "text": [
      "{'t_left': 0.0, 't_right': 0.9995}\n",
      "trial   0\n",
      "t_i = 0.0927, maj = 0.8978, acc = 0.8978, accdev =  0.0000\n",
      "t_i = 0.1834, maj = 0.8180, acc = 0.9377, accdev =  0.1197\n",
      "t_i = 0.2740, maj = 0.7157, acc = 0.9601, accdev =  0.2444\n",
      "t_i = 0.3647, maj = 0.6409, acc = 0.8853, accdev =  0.2444\n",
      "t_i = 0.4554, maj = 0.5387, acc = 0.9501, accdev =  0.4115\n",
      "t_i = 0.5461, maj = 0.5486, acc = 0.9626, accdev =  0.4140\n",
      "t_i = 0.6368, maj = 0.6409, acc = 0.8853, accdev =  0.2444\n",
      "t_i = 0.7275, maj = 0.7357, acc = 0.9800, accdev =  0.2444\n",
      "t_i = 0.8181, maj = 0.8204, acc = 0.9352, accdev =  0.1147\n",
      "t_i = 0.9088, maj = 0.9102, acc = 0.9102, accdev =  0.0000\n",
      "t0 = 0.5054, alpha = 1.0000\n",
      "trial   1\n",
      "t_i = 0.0913, maj = 0.9177, acc = 0.9177, accdev =  0.0000\n",
      "t_i = 0.1820, maj = 0.8279, acc = 0.9451, accdev =  0.1172\n",
      "t_i = 0.2728, maj = 0.7431, acc = 0.9701, accdev =  0.2269\n",
      "t_i = 0.3636, maj = 0.6708, acc = 0.8978, accdev =  0.2269\n",
      "t_i = 0.4544, maj = 0.6110, acc = 0.9426, accdev =  0.3317\n",
      "t_i = 0.5451, maj = 0.5137, acc = 0.9601, accdev =  0.4464\n",
      "t_i = 0.6359, maj = 0.5935, acc = 0.8803, accdev =  0.2868\n",
      "t_i = 0.7267, maj = 0.6983, acc = 0.9850, accdev =  0.2868\n",
      "t_i = 0.8175, maj = 0.7880, acc = 0.9252, accdev =  0.1372\n",
      "t_i = 0.9082, maj = 0.8903, acc = 0.8903, accdev =  0.0000\n",
      "t0 = 0.5019, alpha = 1.0000\n",
      "trial   2\n",
      "t_i = 0.0910, maj = 0.9302, acc = 0.9302, accdev =  0.0000\n",
      "t_i = 0.1816, maj = 0.8454, acc = 0.9202, accdev =  0.0748\n",
      "t_i = 0.2721, maj = 0.7456, acc = 0.9800, accdev =  0.2344\n",
      "t_i = 0.3627, maj = 0.6384, acc = 0.8728, accdev =  0.2344\n",
      "t_i = 0.4532, maj = 0.5561, acc = 0.9401, accdev =  0.3840\n",
      "t_i = 0.5438, maj = 0.5461, acc = 0.9576, accdev =  0.4115\n",
      "t_i = 0.6343, maj = 0.6334, acc = 0.8853, accdev =  0.2519\n",
      "t_i = 0.7249, maj = 0.7257, acc = 0.9776, accdev =  0.2519\n",
      "t_i = 0.8154, maj = 0.8155, acc = 0.9327, accdev =  0.1172\n",
      "t_i = 0.9060, maj = 0.9077, acc = 0.9077, accdev =  0.0000\n",
      "t0 = 0.5027, alpha = 1.0000\n",
      "t0 = 0.5033 +- 0.0015\n",
      "alpha = 1.0000 +- 0.0000\n",
      "ratio =  0.5032516258129065\n",
      "{'t_left': 0.0, 't_right': 0.5033144133231096}\n",
      "trial   0\n",
      "t_i = 0.0462, maj = 0.9059, acc = 0.9059, accdev =  0.0000\n",
      "t_i = 0.0919, maj = 0.8218, acc = 0.8218, accdev =  0.0000\n",
      "t_i = 0.1375, maj = 0.7327, acc = 0.7574, accdev =  0.0248\n",
      "t_i = 0.1832, maj = 0.6287, acc = 0.8614, accdev =  0.2327\n",
      "t_i = 0.2289, maj = 0.5248, acc = 0.9653, accdev =  0.4406\n",
      "t_i = 0.2746, maj = 0.5495, acc = 0.9604, accdev =  0.4109\n",
      "t_i = 0.3203, maj = 0.6386, acc = 0.8713, accdev =  0.2327\n",
      "t_i = 0.3660, maj = 0.7277, acc = 0.7822, accdev =  0.0545\n",
      "t_i = 0.4116, maj = 0.8317, acc = 0.8317, accdev =  0.0000\n",
      "t_i = 0.4573, maj = 0.9257, acc = 0.9257, accdev =  0.0000\n",
      "t0 = 0.2542, alpha = 1.0000\n",
      "trial   1\n",
      "t_i = 0.0469, maj = 0.8861, acc = 0.8861, accdev =  0.0000\n",
      "t_i = 0.0923, maj = 0.7921, acc = 0.7921, accdev =  0.0000\n",
      "t_i = 0.1377, maj = 0.7079, acc = 0.7970, accdev =  0.0891\n",
      "t_i = 0.1831, maj = 0.6337, acc = 0.8713, accdev =  0.2376\n",
      "t_i = 0.2285, maj = 0.5545, acc = 0.9505, accdev =  0.3960\n",
      "t_i = 0.2740, maj = 0.5446, acc = 0.9505, accdev =  0.4059\n",
      "t_i = 0.3194, maj = 0.6287, acc = 0.8663, accdev =  0.2376\n",
      "t_i = 0.3648, maj = 0.7277, acc = 0.7673, accdev =  0.0396\n",
      "t_i = 0.4102, maj = 0.8317, acc = 0.8515, accdev =  0.0198\n",
      "t_i = 0.4556, maj = 0.9109, acc = 0.9307, accdev =  0.0198\n",
      "t0 = 0.2483, alpha = 1.0000\n",
      "trial   2\n",
      "t_i = 0.0475, maj = 0.8861, acc = 0.8861, accdev =  0.0000\n",
      "t_i = 0.0930, maj = 0.7921, acc = 0.7921, accdev =  0.0000\n",
      "t_i = 0.1385, maj = 0.7327, acc = 0.8020, accdev =  0.0693\n",
      "t_i = 0.1840, maj = 0.6337, acc = 0.9010, accdev =  0.2673\n",
      "t_i = 0.2295, maj = 0.5545, acc = 0.9802, accdev =  0.4257\n",
      "t_i = 0.2750, maj = 0.5297, acc = 0.9356, accdev =  0.4059\n",
      "t_i = 0.3205, maj = 0.6089, acc = 0.8564, accdev =  0.2475\n",
      "t_i = 0.3660, maj = 0.6931, acc = 0.7129, accdev =  0.0198\n",
      "t_i = 0.4115, maj = 0.7871, acc = 0.8069, accdev =  0.0198\n",
      "t_i = 0.4570, maj = 0.8960, acc = 0.9158, accdev =  0.0198\n",
      "t0 = 0.2374, alpha = 1.0000\n",
      "t0 = 0.2467 +- 0.0070\n",
      "alpha = 1.0000 +- 0.0000\n",
      "ratio =  0.4900596421471173\n",
      "{'t_left': 0.5033144133231096, 't_right': 0.9995}\n",
      "trial   0\n",
      "t_i = 0.5486, maj = 0.9000, acc = 0.9000, accdev =  0.0000\n",
      "t_i = 0.5937, maj = 0.8100, acc = 0.8100, accdev =  0.0000\n",
      "t_i = 0.6388, maj = 0.7000, acc = 0.7250, accdev =  0.0250\n",
      "t_i = 0.6839, maj = 0.6050, acc = 0.8200, accdev =  0.2150\n",
      "t_i = 0.7290, maj = 0.5150, acc = 0.9400, accdev =  0.4250\n",
      "t_i = 0.7740, maj = 0.5950, acc = 0.9800, accdev =  0.3850\n",
      "t_i = 0.8191, maj = 0.6900, acc = 0.8850, accdev =  0.1950\n",
      "t_i = 0.8642, maj = 0.7400, acc = 0.8350, accdev =  0.0950\n",
      "t_i = 0.9093, maj = 0.8250, acc = 0.8250, accdev =  0.0000\n",
      "t_i = 0.9544, maj = 0.9300, acc = 0.9300, accdev =  0.0000\n",
      "t0 = 0.7691, alpha = 1.0000\n",
      "trial   1\n",
      "t_i = 0.5484, maj = 0.9250, acc = 0.9250, accdev =  0.0000\n",
      "t_i = 0.5933, maj = 0.7900, acc = 0.7900, accdev =  0.0000\n",
      "t_i = 0.6382, maj = 0.7050, acc = 0.7650, accdev =  0.0600\n",
      "t_i = 0.6831, maj = 0.5900, acc = 0.8800, accdev =  0.2900\n",
      "t_i = 0.7280, maj = 0.5250, acc = 0.9450, accdev =  0.4200\n",
      "t_i = 0.7730, maj = 0.5700, acc = 0.9600, accdev =  0.3900\n",
      "t_i = 0.8179, maj = 0.6450, acc = 0.8850, accdev =  0.2400\n",
      "t_i = 0.8628, maj = 0.7250, acc = 0.8050, accdev =  0.0800\n",
      "t_i = 0.9077, maj = 0.8150, acc = 0.8150, accdev =  0.0000\n",
      "t_i = 0.9526, maj = 0.9000, acc = 0.9000, accdev =  0.0000\n",
      "t0 = 0.7552, alpha = 1.0000\n",
      "trial   2\n",
      "t_i = 0.5490, maj = 0.9150, acc = 0.9150, accdev =  0.0000\n",
      "t_i = 0.5939, maj = 0.8400, acc = 0.8400, accdev =  0.0000\n",
      "t_i = 0.6389, maj = 0.7150, acc = 0.7950, accdev =  0.0800\n",
      "t_i = 0.6838, maj = 0.6450, acc = 0.8650, accdev =  0.2200\n",
      "t_i = 0.7288, maj = 0.5450, acc = 0.9650, accdev =  0.4200\n",
      "t_i = 0.7737, maj = 0.5350, acc = 0.9550, accdev =  0.4200\n",
      "t_i = 0.8187, maj = 0.6150, acc = 0.8750, accdev =  0.2600\n",
      "t_i = 0.8636, maj = 0.7450, acc = 0.7450, accdev =  0.0000\n",
      "t_i = 0.9086, maj = 0.8150, acc = 0.8150, accdev =  0.0000\n",
      "t_i = 0.9535, maj = 0.8900, acc = 0.8900, accdev =  0.0000\n",
      "t0 = 0.7474, alpha = 1.0000\n",
      "t0 = 0.7572 +- 0.0089\n",
      "alpha = 1.0000 +- 0.0000\n",
      "ratio =  0.5115810674723061\n",
      "{'t_left': 0.0, 't_right': 0.24665090775194767}\n",
      "trial   0\n",
      "t_i = 0.0229, maj = 0.9600, acc = 0.9600, accdev =  0.0000\n",
      "t_i = 0.0452, maj = 0.8700, acc = 0.8700, accdev =  0.0000\n",
      "t_i = 0.0676, maj = 0.7800, acc = 0.7800, accdev =  0.0000\n",
      "t_i = 0.0900, maj = 0.7100, acc = 0.7100, accdev =  0.0000\n",
      "t_i = 0.1123, maj = 0.6100, acc = 0.6100, accdev =  0.0000\n",
      "t_i = 0.1347, maj = 0.5300, acc = 0.4700, accdev = -0.0600\n",
      "t_i = 0.1570, maj = 0.6200, acc = 0.6200, accdev =  0.0000\n",
      "t_i = 0.1794, maj = 0.7100, acc = 0.7100, accdev =  0.0000\n",
      "t_i = 0.2018, maj = 0.8000, acc = 0.8000, accdev =  0.0000\n",
      "t_i = 0.2241, maj = 0.9000, acc = 0.9000, accdev =  0.0000\n",
      "t0 = 0.0183, alpha = 0.8133\n",
      "trial   1\n",
      "t_i = 0.0228, maj = 0.9200, acc = 0.9200, accdev =  0.0000\n",
      "t_i = 0.0451, maj = 0.8000, acc = 0.8000, accdev =  0.0000\n",
      "t_i = 0.0675, maj = 0.7000, acc = 0.7000, accdev =  0.0000\n",
      "t_i = 0.0898, maj = 0.6000, acc = 0.6000, accdev =  0.0000\n",
      "t_i = 0.1121, maj = 0.5000, acc = 0.5000, accdev =  0.0000\n",
      "t_i = 0.1344, maj = 0.6200, acc = 0.6200, accdev =  0.0000\n",
      "t_i = 0.1567, maj = 0.7000, acc = 0.7000, accdev =  0.0000\n",
      "t_i = 0.1790, maj = 0.7700, acc = 0.7700, accdev =  0.0000\n",
      "t_i = 0.2014, maj = 0.8800, acc = 0.8800, accdev =  0.0000\n",
      "t_i = 0.2237, maj = 0.9500, acc = 0.9500, accdev =  0.0000\n",
      "t0 = 0.2282, alpha = 0.7831\n",
      "trial   2\n",
      "t_i = 0.0236, maj = 0.8500, acc = 0.8500, accdev =  0.0000\n",
      "t_i = 0.0458, maj = 0.7400, acc = 0.7400, accdev =  0.0000\n",
      "t_i = 0.0679, maj = 0.6700, acc = 0.6700, accdev =  0.0000\n",
      "t_i = 0.0900, maj = 0.5900, acc = 0.5900, accdev =  0.0000\n",
      "t_i = 0.1122, maj = 0.5600, acc = 0.5600, accdev =  0.0000\n",
      "t_i = 0.1343, maj = 0.5200, acc = 0.5200, accdev =  0.0000\n",
      "t_i = 0.1565, maj = 0.6300, acc = 0.6300, accdev =  0.0000\n",
      "t_i = 0.1786, maj = 0.7200, acc = 0.7200, accdev =  0.0000\n",
      "t_i = 0.2007, maj = 0.8400, acc = 0.8400, accdev =  0.0000\n",
      "t_i = 0.2229, maj = 0.9000, acc = 0.9000, accdev =  0.0000\n",
      "t0 = 0.2465, alpha = 0.3548\n",
      "t0 = 0.1643 +- 0.1035\n",
      "alpha = 0.6504 +- 0.2094\n",
      "{'t_left': 0.24665090775194767, 't_right': 0.5033144133231096}\n",
      "trial   0\n",
      "t_i = 0.2703, maj = 0.9519, acc = 0.9519, accdev =  0.0000\n",
      "t_i = 0.2935, maj = 0.8846, acc = 0.8846, accdev =  0.0000\n",
      "t_i = 0.3168, maj = 0.7692, acc = 0.7692, accdev =  0.0000\n",
      "t_i = 0.3401, maj = 0.5962, acc = 0.5962, accdev =  0.0000\n",
      "t_i = 0.3634, maj = 0.5288, acc = 0.5288, accdev =  0.0000\n",
      "t_i = 0.3866, maj = 0.5962, acc = 0.6058, accdev =  0.0096\n",
      "t_i = 0.4099, maj = 0.6635, acc = 0.6731, accdev =  0.0096\n",
      "t_i = 0.4332, maj = 0.7404, acc = 0.7500, accdev =  0.0096\n",
      "t_i = 0.4565, maj = 0.8365, acc = 0.8462, accdev =  0.0096\n",
      "t_i = 0.4797, maj = 0.9231, acc = 0.9327, accdev =  0.0096\n",
      "t0 = 0.4902, alpha = 0.6932\n",
      "trial   1\n",
      "t_i = 0.2707, maj = 0.9231, acc = 0.9327, accdev =  0.0096\n",
      "t_i = 0.2940, maj = 0.8462, acc = 0.8558, accdev =  0.0096\n",
      "t_i = 0.3172, maj = 0.7596, acc = 0.7692, accdev =  0.0096\n",
      "t_i = 0.3404, maj = 0.6635, acc = 0.6731, accdev =  0.0096\n",
      "t_i = 0.3636, maj = 0.5962, acc = 0.6058, accdev =  0.0096\n",
      "t_i = 0.3869, maj = 0.5288, acc = 0.5000, accdev = -0.0288\n",
      "t_i = 0.4101, maj = 0.5481, acc = 0.5769, accdev =  0.0288\n",
      "t_i = 0.4333, maj = 0.6731, acc = 0.7019, accdev =  0.0288\n",
      "t_i = 0.4565, maj = 0.7692, acc = 0.7981, accdev =  0.0288\n",
      "t_i = 0.4798, maj = 0.8750, acc = 0.9038, accdev =  0.0288\n",
      "t0 = 0.2728, alpha = 0.4282\n",
      "trial   2\n",
      "t_i = 0.2707, maj = 0.9615, acc = 0.9615, accdev =  0.0000\n",
      "t_i = 0.2940, maj = 0.8654, acc = 0.8654, accdev =  0.0000\n",
      "t_i = 0.3172, maj = 0.7885, acc = 0.7885, accdev =  0.0000\n",
      "t_i = 0.3404, maj = 0.6827, acc = 0.6827, accdev =  0.0000\n",
      "t_i = 0.3636, maj = 0.5962, acc = 0.5962, accdev =  0.0000\n",
      "t_i = 0.3869, maj = 0.5192, acc = 0.4808, accdev = -0.0385\n",
      "t_i = 0.4101, maj = 0.6346, acc = 0.6346, accdev =  0.0000\n",
      "t_i = 0.4333, maj = 0.7019, acc = 0.7019, accdev =  0.0000\n",
      "t_i = 0.4565, maj = 0.8077, acc = 0.8077, accdev =  0.0000\n",
      "t_i = 0.4798, maj = 0.8942, acc = 0.8942, accdev =  0.0000\n",
      "t0 = 0.2661, alpha = 0.7060\n",
      "t0 = 0.3430 +- 0.1041\n",
      "alpha = 0.6091 +- 0.1280\n",
      "{'t_left': 0.5033144133231096, 't_right': 0.7572171865346046}\n",
      "trial   0\n",
      "t_i = 0.5269, maj = 0.9412, acc = 0.9412, accdev =  0.0000\n",
      "t_i = 0.5497, maj = 0.8333, acc = 0.8333, accdev =  0.0000\n",
      "t_i = 0.5726, maj = 0.7647, acc = 0.7647, accdev =  0.0000\n",
      "t_i = 0.5955, maj = 0.6667, acc = 0.6667, accdev =  0.0000\n",
      "t_i = 0.6183, maj = 0.5882, acc = 0.5882, accdev =  0.0000\n",
      "t_i = 0.6412, maj = 0.5686, acc = 0.6078, accdev =  0.0392\n",
      "t_i = 0.6640, maj = 0.6863, acc = 0.7255, accdev =  0.0392\n",
      "t_i = 0.6869, maj = 0.7647, acc = 0.8039, accdev =  0.0392\n",
      "t_i = 0.7098, maj = 0.8627, acc = 0.9020, accdev =  0.0392\n",
      "t_i = 0.7326, maj = 0.9216, acc = 0.9608, accdev =  0.0392\n",
      "t0 = 0.7257, alpha = 0.6821\n",
      "trial   1\n",
      "t_i = 0.5274, maj = 0.8922, acc = 0.8922, accdev =  0.0000\n",
      "t_i = 0.5503, maj = 0.8137, acc = 0.8137, accdev =  0.0000\n",
      "t_i = 0.5732, maj = 0.7255, acc = 0.7255, accdev =  0.0000\n",
      "t_i = 0.5961, maj = 0.6765, acc = 0.6765, accdev =  0.0000\n",
      "t_i = 0.6190, maj = 0.5882, acc = 0.5882, accdev =  0.0000\n",
      "t_i = 0.6420, maj = 0.5196, acc = 0.5490, accdev =  0.0294\n",
      "t_i = 0.6649, maj = 0.5980, acc = 0.6275, accdev =  0.0294\n",
      "t_i = 0.6878, maj = 0.6961, acc = 0.7255, accdev =  0.0294\n",
      "t_i = 0.7107, maj = 0.7745, acc = 0.8039, accdev =  0.0294\n",
      "t_i = 0.7336, maj = 0.9510, acc = 0.9804, accdev =  0.0294\n",
      "t0 = 0.5961, alpha = 0.0828\n",
      "trial   2\n",
      "t_i = 0.5265, maj = 0.9216, acc = 0.9216, accdev =  0.0000\n",
      "t_i = 0.5495, maj = 0.8431, acc = 0.8431, accdev =  0.0000\n",
      "t_i = 0.5725, maj = 0.7255, acc = 0.7255, accdev =  0.0000\n",
      "t_i = 0.5955, maj = 0.6373, acc = 0.6373, accdev =  0.0000\n",
      "t_i = 0.6185, maj = 0.5588, acc = 0.5588, accdev =  0.0000\n",
      "t_i = 0.6415, maj = 0.5882, acc = 0.5980, accdev =  0.0098\n",
      "t_i = 0.6645, maj = 0.6765, acc = 0.6863, accdev =  0.0098\n",
      "t_i = 0.6875, maj = 0.7745, acc = 0.7843, accdev =  0.0098\n",
      "t_i = 0.7105, maj = 0.8529, acc = 0.8627, accdev =  0.0098\n",
      "t_i = 0.7335, maj = 0.9314, acc = 0.9412, accdev =  0.0098\n",
      "t0 = 0.7282, alpha = 0.4651\n",
      "t0 = 0.6834 +- 0.0617\n",
      "alpha = 0.4100 +- 0.2477\n",
      "{'t_left': 0.7572171865346046, 't_right': 0.9995}\n",
      "trial   0\n",
      "t_i = 0.7795, maj = 0.8878, acc = 0.8878, accdev =  0.0000\n",
      "t_i = 0.8014, maj = 0.8163, acc = 0.8163, accdev =  0.0000\n",
      "t_i = 0.8234, maj = 0.7143, acc = 0.7143, accdev =  0.0000\n",
      "t_i = 0.8453, maj = 0.6429, acc = 0.6429, accdev =  0.0000\n",
      "t_i = 0.8673, maj = 0.5510, acc = 0.5510, accdev =  0.0000\n",
      "t_i = 0.8892, maj = 0.5612, acc = 0.5612, accdev = -0.0000\n",
      "t_i = 0.9112, maj = 0.6224, acc = 0.6224, accdev =  0.0000\n",
      "t_i = 0.9331, maj = 0.7245, acc = 0.7245, accdev =  0.0000\n",
      "t_i = 0.9551, maj = 0.8265, acc = 0.8265, accdev =  0.0000\n",
      "t_i = 0.9770, maj = 0.9286, acc = 0.9286, accdev =  0.0000\n",
      "t0 = 0.9770, alpha = 0.0675\n",
      "trial   1\n",
      "t_i = 0.7799, maj = 0.9694, acc = 0.9694, accdev =  0.0000\n",
      "t_i = 0.8018, maj = 0.8469, acc = 0.8469, accdev =  0.0000\n",
      "t_i = 0.8237, maj = 0.7857, acc = 0.7857, accdev =  0.0000\n",
      "t_i = 0.8456, maj = 0.7041, acc = 0.7041, accdev =  0.0000\n",
      "t_i = 0.8675, maj = 0.5816, acc = 0.5816, accdev =  0.0000\n",
      "t_i = 0.8895, maj = 0.5000, acc = 0.5000, accdev =  0.0000\n",
      "t_i = 0.9114, maj = 0.6327, acc = 0.6327, accdev =  0.0000\n",
      "t_i = 0.9333, maj = 0.7653, acc = 0.7653, accdev =  0.0000\n",
      "t_i = 0.9552, maj = 0.8571, acc = 0.8571, accdev = -0.0000\n",
      "t_i = 0.9771, maj = 0.9184, acc = 0.9184, accdev =  0.0000\n",
      "t0 = 0.7666, alpha = 1.0000\n",
      "trial   2\n",
      "t_i = 0.7800, maj = 0.9490, acc = 0.9490, accdev =  0.0000\n",
      "t_i = 0.8019, maj = 0.9184, acc = 0.9184, accdev =  0.0000\n",
      "t_i = 0.8239, maj = 0.8673, acc = 0.8673, accdev =  0.0000\n",
      "t_i = 0.8458, maj = 0.7449, acc = 0.7449, accdev =  0.0000\n",
      "t_i = 0.8678, maj = 0.6531, acc = 0.6531, accdev =  0.0000\n",
      "t_i = 0.8897, maj = 0.5714, acc = 0.4286, accdev = -0.1429\n",
      "t_i = 0.9117, maj = 0.5408, acc = 0.5408, accdev =  0.0000\n",
      "t_i = 0.9336, maj = 0.6531, acc = 0.6531, accdev = -0.0000\n",
      "t_i = 0.9556, maj = 0.7551, acc = 0.7551, accdev =  0.0000\n",
      "t_i = 0.9775, maj = 0.8469, acc = 0.8469, accdev =  0.0000\n",
      "t0 = 0.7896, alpha = 0.8668\n",
      "t0 = 0.8444 +- 0.0942\n",
      "alpha = 0.6448 +- 0.4118\n"
     ]
    }
   ],
   "source": [
    "clf_rf = RandomForestClassifier(max_depth=32, criterion=\"entropy\", random_state=0)\n",
    "res_multi = metachange.change_point_tree(X, t, clf_rf, min_range=0.20)"
   ],
   "metadata": {
    "collapsed": false,
    "pycharm": {
     "name": "#%%\n"
    }
   }
  },
  {
   "cell_type": "code",
   "execution_count": 7,
   "outputs": [
    {
     "data": {
      "image/svg+xml": "<?xml version=\"1.0\" encoding=\"UTF-8\" standalone=\"no\"?>\n<!DOCTYPE svg PUBLIC \"-//W3C//DTD SVG 1.1//EN\"\n \"http://www.w3.org/Graphics/SVG/1.1/DTD/svg11.dtd\">\n<!-- Generated by graphviz version 6.0.1 (20220911.1526)\n -->\n<!-- Pages: 1 -->\n<svg width=\"598pt\" height=\"224pt\"\n viewBox=\"0.00 0.00 598.00 224.00\" xmlns=\"http://www.w3.org/2000/svg\" xmlns:xlink=\"http://www.w3.org/1999/xlink\">\n<g id=\"graph0\" class=\"graph\" transform=\"scale(1 1) rotate(0) translate(4 220)\">\n<polygon fill=\"white\" stroke=\"none\" points=\"-4,4 -4,-220 594,-220 594,4 -4,4\"/>\n<!-- 0 -->\n<g id=\"node1\" class=\"node\">\n<title>0</title>\n<polygon fill=\"#b8f0b2\" stroke=\"black\" points=\"362,-216 228,-216 228,-163 362,-163 362,-216\"/>\n<text text-anchor=\"middle\" x=\"295\" y=\"-200.8\" font-family=\"Times New Roman,serif\" font-size=\"14.00\">t_0 = 0.5033</text>\n<text text-anchor=\"middle\" x=\"295\" y=\"-185.8\" font-family=\"Times New Roman,serif\" font-size=\"14.00\"> alpha = 1.0000</text>\n<text text-anchor=\"middle\" x=\"295\" y=\"-170.8\" font-family=\"Times New Roman,serif\" font-size=\"14.00\">Range:0.0000&#45;0.9995</text>\n</g>\n<!-- 1 -->\n<g id=\"node2\" class=\"node\">\n<title>1</title>\n<polygon fill=\"#b8f0b2\" stroke=\"black\" points=\"286,-127 152,-127 152,-74 286,-74 286,-127\"/>\n<text text-anchor=\"middle\" x=\"219\" y=\"-111.8\" font-family=\"Times New Roman,serif\" font-size=\"14.00\">t_0 = 0.2467</text>\n<text text-anchor=\"middle\" x=\"219\" y=\"-96.8\" font-family=\"Times New Roman,serif\" font-size=\"14.00\"> alpha = 1.0000</text>\n<text text-anchor=\"middle\" x=\"219\" y=\"-81.8\" font-family=\"Times New Roman,serif\" font-size=\"14.00\">Range:0.0000&#45;0.5033</text>\n</g>\n<!-- 0&#45;&gt;1 -->\n<g id=\"edge1\" class=\"edge\">\n<title>0&#45;&gt;1</title>\n<path fill=\"none\" stroke=\"black\" d=\"M272.61,-162.87C264.95,-154.1 256.26,-144.15 248.14,-134.86\"/>\n<polygon fill=\"black\" stroke=\"black\" points=\"250.71,-132.48 241.49,-127.25 245.44,-137.08 250.71,-132.48\"/>\n</g>\n<!-- 4 -->\n<g id=\"node5\" class=\"node\">\n<title>4</title>\n<polygon fill=\"#b8f0b2\" stroke=\"black\" points=\"438,-127 304,-127 304,-74 438,-74 438,-127\"/>\n<text text-anchor=\"middle\" x=\"371\" y=\"-111.8\" font-family=\"Times New Roman,serif\" font-size=\"14.00\">t_0 = 0.7572</text>\n<text text-anchor=\"middle\" x=\"371\" y=\"-96.8\" font-family=\"Times New Roman,serif\" font-size=\"14.00\"> alpha = 1.0000</text>\n<text text-anchor=\"middle\" x=\"371\" y=\"-81.8\" font-family=\"Times New Roman,serif\" font-size=\"14.00\">Range:0.5033&#45;0.9995</text>\n</g>\n<!-- 0&#45;&gt;4 -->\n<g id=\"edge4\" class=\"edge\">\n<title>0&#45;&gt;4</title>\n<path fill=\"none\" stroke=\"black\" d=\"M317.39,-162.87C325.05,-154.1 333.74,-144.15 341.86,-134.86\"/>\n<polygon fill=\"black\" stroke=\"black\" points=\"344.56,-137.08 348.51,-127.25 339.29,-132.48 344.56,-137.08\"/>\n</g>\n<!-- 2 -->\n<g id=\"node3\" class=\"node\">\n<title>2</title>\n<polygon fill=\"#b8f0b2\" stroke=\"black\" points=\"134,-38 0,-38 0,0 134,0 134,-38\"/>\n<text text-anchor=\"middle\" x=\"67\" y=\"-22.8\" font-family=\"Times New Roman,serif\" font-size=\"14.00\">Leaf</text>\n<text text-anchor=\"middle\" x=\"67\" y=\"-7.8\" font-family=\"Times New Roman,serif\" font-size=\"14.00\">Range:0.0000&#45;0.2467</text>\n</g>\n<!-- 1&#45;&gt;2 -->\n<g id=\"edge2\" class=\"edge\">\n<title>1&#45;&gt;2</title>\n<path fill=\"none\" stroke=\"black\" d=\"M170.07,-73.91C151.06,-63.97 129.46,-52.67 110.96,-42.99\"/>\n<polygon fill=\"black\" stroke=\"black\" points=\"112.36,-39.77 101.87,-38.24 109.11,-45.97 112.36,-39.77\"/>\n</g>\n<!-- 3 -->\n<g id=\"node4\" class=\"node\">\n<title>3</title>\n<polygon fill=\"#b8f0b2\" stroke=\"black\" points=\"286,-38 152,-38 152,0 286,0 286,-38\"/>\n<text text-anchor=\"middle\" x=\"219\" y=\"-22.8\" font-family=\"Times New Roman,serif\" font-size=\"14.00\">Leaf</text>\n<text text-anchor=\"middle\" x=\"219\" y=\"-7.8\" font-family=\"Times New Roman,serif\" font-size=\"14.00\">Range:0.2467&#45;0.5033</text>\n</g>\n<!-- 1&#45;&gt;3 -->\n<g id=\"edge3\" class=\"edge\">\n<title>1&#45;&gt;3</title>\n<path fill=\"none\" stroke=\"black\" d=\"M219,-73.91C219,-65.74 219,-56.65 219,-48.3\"/>\n<polygon fill=\"black\" stroke=\"black\" points=\"222.5,-48.24 219,-38.24 215.5,-48.24 222.5,-48.24\"/>\n</g>\n<!-- 5 -->\n<g id=\"node6\" class=\"node\">\n<title>5</title>\n<polygon fill=\"#b8f0b2\" stroke=\"black\" points=\"438,-38 304,-38 304,0 438,0 438,-38\"/>\n<text text-anchor=\"middle\" x=\"371\" y=\"-22.8\" font-family=\"Times New Roman,serif\" font-size=\"14.00\">Leaf</text>\n<text text-anchor=\"middle\" x=\"371\" y=\"-7.8\" font-family=\"Times New Roman,serif\" font-size=\"14.00\">Range:0.5033&#45;0.7572</text>\n</g>\n<!-- 4&#45;&gt;5 -->\n<g id=\"edge5\" class=\"edge\">\n<title>4&#45;&gt;5</title>\n<path fill=\"none\" stroke=\"black\" d=\"M371,-73.91C371,-65.74 371,-56.65 371,-48.3\"/>\n<polygon fill=\"black\" stroke=\"black\" points=\"374.5,-48.24 371,-38.24 367.5,-48.24 374.5,-48.24\"/>\n</g>\n<!-- 6 -->\n<g id=\"node7\" class=\"node\">\n<title>6</title>\n<polygon fill=\"#b8f0b2\" stroke=\"black\" points=\"590,-38 456,-38 456,0 590,0 590,-38\"/>\n<text text-anchor=\"middle\" x=\"523\" y=\"-22.8\" font-family=\"Times New Roman,serif\" font-size=\"14.00\">Leaf</text>\n<text text-anchor=\"middle\" x=\"523\" y=\"-7.8\" font-family=\"Times New Roman,serif\" font-size=\"14.00\">Range:0.7572&#45;0.9995</text>\n</g>\n<!-- 4&#45;&gt;6 -->\n<g id=\"edge6\" class=\"edge\">\n<title>4&#45;&gt;6</title>\n<path fill=\"none\" stroke=\"black\" d=\"M419.93,-73.91C438.94,-63.97 460.54,-52.67 479.04,-42.99\"/>\n<polygon fill=\"black\" stroke=\"black\" points=\"480.89,-45.97 488.13,-38.24 477.64,-39.77 480.89,-45.97\"/>\n</g>\n</g>\n</svg>\n",
      "text/plain": "<graphviz.graphs.Digraph at 0x2c7068c9310>"
     },
     "execution_count": 7,
     "metadata": {},
     "output_type": "execute_result"
    }
   ],
   "source": [
    "def make_node_text(data):\n",
    "    t_left = data[\"t_left\"]\n",
    "    t_right = data[\"t_right\"]\n",
    "\n",
    "    if \"t0\" in data:\n",
    "        header = f't_0 = {data[\"t0\"]:.4f}\\n alpha = {data[\"alpha\"]:.4f}'\n",
    "    else:\n",
    "        header = \"Leaf\"\n",
    "    return f\"{header}\\nRange:{t_left:.4f}-{t_right:.4f}\"\n",
    "\n",
    "metachange.show_tree(res_multi, make_node_text)"
   ],
   "metadata": {
    "collapsed": false,
    "pycharm": {
     "name": "#%%\n"
    }
   }
  }
 ],
 "metadata": {
  "kernelspec": {
   "display_name": "Python 3",
   "language": "python",
   "name": "python3"
  },
  "language_info": {
   "codemirror_mode": {
    "name": "ipython",
    "version": 2
   },
   "file_extension": ".py",
   "mimetype": "text/x-python",
   "name": "python",
   "nbconvert_exporter": "python",
   "pygments_lexer": "ipython2",
   "version": "2.7.6"
  }
 },
 "nbformat": 4,
 "nbformat_minor": 0
}